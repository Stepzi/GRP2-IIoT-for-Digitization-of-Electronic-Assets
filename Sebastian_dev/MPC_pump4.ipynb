{
 "cells": [
  {
   "cell_type": "code",
   "execution_count": null,
   "metadata": {},
   "outputs": [],
   "source": [
    "from gekko import GEKKO\n",
    "import numpy as np\n",
    "import matplotlib.pyplot as plt\n",
    "import time\n",
    "\n",
    "\n",
    "m = GEKKO(remote = False)\n",
    "\n",
    "#time horizon: 6h\n",
    "t_hor = 60 #min\n",
    "m.time = np.linspace(0,t_hor-1,t_hor)\n",
    "\n",
    "# External Disturbances\n",
    "\n",
    "Qin = np.random.randint(50,200,size=100)\n",
    "c = \n",
    "\n",
    "# Errors form upper and lower bound\n",
    "\n",
    "\n",
    "\n",
    "\n",
    "# Controlled Variable\n",
    "h = m.CV()\n",
    "\n",
    "# Equations and paramters\n",
    "m.Equation(h.dt() == 1/area *(Qin_hat - Qout))\n",
    "\n",
    "last_co2_fetch = 0\n",
    "\n",
    "#Should be inf.\n",
    "loops = 100\n",
    "for i in range(1,loops):\n",
    "    # Loop that executes every XX sec. actual control loop\n",
    "    time.sleep(10)\n",
    "\n",
    "\n",
    "    #every 15min fetch new CO2 data\n",
    "    if (time.time() - last_co2_fetch > 15*60):\n",
    "        #fetch co2 data for the next 6h and save it\n",
    "        #np.random.randint(50,200,size=xxx)\n",
    "        # save to array\n",
    "\n",
    "        last_co2_fetch = time.time()\n",
    "\n",
    "    # Solve MPC\n",
    "    m.solve()    \n",
    "    #m.solve()\n",
    "\n",
    "\n",
    "    # New Setpoints to Pump"
   ]
  }
 ],
 "metadata": {
  "kernelspec": {
   "display_name": "iiot",
   "language": "python",
   "name": "python3"
  },
  "language_info": {
   "name": "python",
   "version": "3.10.13"
  }
 },
 "nbformat": 4,
 "nbformat_minor": 2
}
